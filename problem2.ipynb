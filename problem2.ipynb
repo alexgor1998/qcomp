{
 "cells": [
  {
   "cell_type": "code",
   "execution_count": 1,
   "metadata": {},
   "outputs": [],
   "source": [
    "import numpy as np\n",
    "from qiskit import *\n",
    "from math import sqrt, pi\n",
    "\n",
    "phi = pi / 3\n",
    "theta = pi / 3"
   ]
  },
  {
   "cell_type": "code",
   "execution_count": 3,
   "metadata": {},
   "outputs": [
    {
     "name": "stderr",
     "output_type": "stream",
     "text": [
      "C:\\ProgramData\\Anaconda3\\lib\\site-packages\\qiskit\\providers\\ibmq\\ibmqfactory.py:192: UserWarning: Timestamps in IBMQ backend properties, jobs, and job results are all now in local time instead of UTC.\n",
      "  warnings.warn('Timestamps in IBMQ backend properties, jobs, and job results '\n",
      "ibmqfactory.load_account:WARNING:2020-09-25 04:53:51,496: Credentials are already in use. The existing account in the session will be replaced.\n"
     ]
    },
    {
     "data": {
      "image/png": "[encoded data removed]",
      "text/plain": [
       "<Figure size 504x360 with 1 Axes>"
      ]
     },
     "execution_count": 3,
     "metadata": {},
     "output_type": "execute_result"
    }
   ],
   "source": [
    "with open('Qconfig_IBMQ_experience.py', 'r') as token_file:\n",
    "    token = token_file.read()\n",
    "IBMQ.save_account(token, overwrite = True)\n",
    "IBMQ.load_account()\n",
    "my_provider = IBMQ.get_provider()\n",
    "\n",
    "qr = QuantumRegister(1)\n",
    "cr = ClassicalRegister(1)\n",
    "circuit = QuantumCircuit(qr, cr)\n",
    "\n",
    "circuit.reset(qr)\n",
    "circuit.u3(theta, phi, 0, qr)\n",
    "circuit.measure(qr,cr)\n",
    "\n",
    "#backend=Aer.get_backend('qasm_simulator')\n",
    "#jobIBM=execute(circuit,backend=backend,shots=1024)\n",
    "#resultSim=jobIBM.result()\n",
    "\n",
    "backend  = my_provider.get_backend('ibmq_ourense')\n",
    "jobIBM=execute(circuit,backend=backend,shots=1024)\n",
    "resultOrig=jobIBM.result()\n",
    "\n",
    "qr = QuantumRegister(1)\n",
    "cr = ClassicalRegister(1)\n",
    "circuit2 = QuantumCircuit(qr, cr)\n",
    "# now representing U3 as RZ(phi)*X*HSH*RZ(theta)*HSH, explanation in notes\n",
    "circuit2.reset(qr)\n",
    "circuit2.h(qr)\n",
    "circuit2.s(qr)\n",
    "circuit2.h(qr)\n",
    "circuit2.rz(theta, qr)\n",
    "circuit2.h(qr)\n",
    "circuit2.s(qr)\n",
    "circuit2.h(qr)\n",
    "circuit2.x(qr)\n",
    "circuit2.rz(phi, qr)\n",
    "circuit2.measure(qr, cr)\n",
    "\n",
    "backend  = my_provider.get_backend('ibmq_ourense')\n",
    "jobIBM=execute(circuit2,backend=backend,shots=1024)\n",
    "resultCustom=jobIBM.result()\n",
    "\n",
    "from qiskit.tools.visualization import plot_histogram\n",
    "plot_histogram([resultOrig.get_counts(circuit),resultCustom.get_counts(circuit2)])"
   ]
  },
  {
   "cell_type": "code",
   "execution_count": 7,
   "metadata": {},
   "outputs": [
    {
     "data": {
      "text/html": [
       "<pre style=\"word-wrap: normal;white-space: pre;background: #fff0;line-height: 1.1;font-family: &quot;Courier New&quot;,Courier,monospace\">           ┌─────────────────┐┌─┐\n",
       "q4_0: ─|0>─┤ U3(pi/3,pi/3,0) ├┤M├\n",
       "           └─────────────────┘└╥┘\n",
       "c1: 1/═════════════════════════╩═\n",
       "                               0 </pre>"
      ],
      "text/plain": [
       "           ┌─────────────────┐┌─┐\n",
       "q4_0: ─|0>─┤ U3(pi/3,pi/3,0) ├┤M├\n",
       "           └─────────────────┘└╥┘\n",
       "c1: 1/═════════════════════════╩═\n",
       "                               0 "
      ]
     },
     "execution_count": 7,
     "metadata": {},
     "output_type": "execute_result"
    }
   ],
   "source": [
    "circuit.draw()"
   ]
  },
  {
   "cell_type": "code",
   "execution_count": 6,
   "metadata": {},
   "outputs": [
    {
     "data": {
      "text/html": [
       "<pre style=\"word-wrap: normal;white-space: pre;background: #fff0;line-height: 1.1;font-family: &quot;Courier New&quot;,Courier,monospace\">           ┌───┐┌───┐┌───┐┌──────────┐┌───┐┌───┐┌───┐┌───┐┌──────────┐┌─┐\n",
       "q8_0: ─|0>─┤ H ├┤ S ├┤ H ├┤ RZ(pi/3) ├┤ H ├┤ S ├┤ H ├┤ X ├┤ RZ(pi/3) ├┤M├\n",
       "           └───┘└───┘└───┘└──────────┘└───┘└───┘└───┘└───┘└──────────┘└╥┘\n",
       "c2: 1/═════════════════════════════════════════════════════════════════╩═\n",
       "                                                                       0 </pre>"
      ],
      "text/plain": [
       "           ┌───┐┌───┐┌───┐┌──────────┐┌───┐┌───┐┌───┐┌───┐┌──────────┐┌─┐\n",
       "q8_0: ─|0>─┤ H ├┤ S ├┤ H ├┤ RZ(pi/3) ├┤ H ├┤ S ├┤ H ├┤ X ├┤ RZ(pi/3) ├┤M├\n",
       "           └───┘└───┘└───┘└──────────┘└───┘└───┘└───┘└───┘└──────────┘└╥┘\n",
       "c2: 1/═════════════════════════════════════════════════════════════════╩═\n",
       "                                                                       0 "
      ]
     },
     "execution_count": 6,
     "metadata": {},
     "output_type": "execute_result"
    }
   ],
   "source": [
    "circuit2.draw()"
   ]
  }
 ],
 "metadata": {
  "kernelspec": {
   "display_name": "Python 3",
   "language": "python",
   "name": "python3"
  },
  "language_info": {
   "codemirror_mode": {
    "name": "ipython",
    "version": 3
   },
   "file_extension": ".py",
   "mimetype": "text/x-python",
   "name": "python",
   "nbconvert_exporter": "python",
   "pygments_lexer": "ipython3",
   "version": "3.8.3"
  }
 },
 "nbformat": 4,
 "nbformat_minor": 4
}
