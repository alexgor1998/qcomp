{
 "cells": [
  {
   "cell_type": "code",
   "execution_count": 1,
   "metadata": {},
   "outputs": [
    {
     "name": "stdout",
     "output_type": "stream",
     "text": [
      "Collecting qiskit\n",
      "  Using cached qiskit-0.21.0.tar.gz (4.1 kB)\n",
      "Collecting qiskit-terra==0.15.2\n",
      "  Downloading qiskit_terra-0.15.2-cp38-cp38-win_amd64.whl (7.6 MB)\n",
      "Collecting qiskit-aer==0.6.1\n",
      "  Downloading qiskit_aer-0.6.1-cp38-cp38-win_amd64.whl (7.7 MB)\n",
      "Collecting qiskit-ibmq-provider==0.9.0\n",
      "  Using cached qiskit_ibmq_provider-0.9.0-py3-none-any.whl (170 kB)\n",
      "Collecting qiskit-ignis==0.4.0\n",
      "  Using cached qiskit_ignis-0.4.0-py3-none-any.whl (172 kB)\n",
      "Collecting qiskit-aqua==0.7.5\n",
      "  Using cached qiskit_aqua-0.7.5-py3-none-any.whl (1.9 MB)\n",
      "Requirement already satisfied: python-dateutil>=2.8.0 in c:\\programdata\\anaconda3\\lib\\site-packages (from qiskit-terra==0.15.2->qiskit) (2.8.1)\n",
      "Requirement already satisfied: scipy>=1.4 in c:\\programdata\\anaconda3\\lib\\site-packages (from qiskit-terra==0.15.2->qiskit) (1.5.0)\n",
      "Collecting dill>=0.3\n",
      "  Using cached dill-0.3.2.zip (177 kB)\n",
      "Requirement already satisfied: psutil>=5 in c:\\programdata\\anaconda3\\lib\\site-packages (from qiskit-terra==0.15.2->qiskit) (5.7.0)\n",
      "Requirement already satisfied: sympy>=1.3 in c:\\programdata\\anaconda3\\lib\\site-packages (from qiskit-terra==0.15.2->qiskit) (1.6.1)\n",
      "Collecting fastjsonschema>=2.10\n",
      "  Using cached fastjsonschema-2.14.5-py3-none-any.whl (21 kB)\n",
      "Collecting python-constraint>=1.4\n",
      "  Using cached python-constraint-1.4.0.tar.bz2 (18 kB)\n",
      "Requirement already satisfied: networkx>=2.2; python_version > \"3.5\" in c:\\programdata\\anaconda3\\lib\\site-packages (from qiskit-terra==0.15.2->qiskit) (2.4)\n",
      "Collecting retworkx>=0.4.0\n",
      "  Downloading retworkx-0.5.0-cp38-cp38-win_amd64.whl (415 kB)\n",
      "Requirement already satisfied: ply>=3.10 in c:\\programdata\\anaconda3\\lib\\site-packages (from qiskit-terra==0.15.2->qiskit) (3.11)\n",
      "Requirement already satisfied: jsonschema>=2.6 in c:\\programdata\\anaconda3\\lib\\site-packages (from qiskit-terra==0.15.2->qiskit) (3.2.0)\n",
      "Requirement already satisfied: numpy>=1.17 in c:\\programdata\\anaconda3\\lib\\site-packages (from qiskit-terra==0.15.2->qiskit) (1.18.5)\n",
      "Collecting pybind11>=2.4\n",
      "  Using cached pybind11-2.5.0-py2.py3-none-any.whl (296 kB)\n",
      "Requirement already satisfied: cython>=0.27.1 in c:\\programdata\\anaconda3\\lib\\site-packages (from qiskit-aer==0.6.1->qiskit) (0.29.21)\n",
      "Collecting websockets>=8; python_version > \"3.6\"\n",
      "  Downloading websockets-8.1-cp38-cp38-win_amd64.whl (66 kB)\n",
      "Requirement already satisfied: urllib3>=1.21.1 in c:\\programdata\\anaconda3\\lib\\site-packages (from qiskit-ibmq-provider==0.9.0->qiskit) (1.25.9)\n",
      "Collecting requests-ntlm>=1.1.0\n",
      "  Using cached requests_ntlm-1.1.0-py2.py3-none-any.whl (5.7 kB)\n",
      "Requirement already satisfied: requests>=2.19 in c:\\programdata\\anaconda3\\lib\\site-packages (from qiskit-ibmq-provider==0.9.0->qiskit) (2.24.0)\n",
      "Collecting nest-asyncio!=1.1.0,>=1.0.0\n",
      "  Using cached nest_asyncio-1.4.0-py3-none-any.whl (5.2 kB)\n",
      "Requirement already satisfied: scikit-learn>=0.17 in c:\\programdata\\anaconda3\\lib\\site-packages (from qiskit-ignis==0.4.0->qiskit) (0.23.1)\n",
      "Requirement already satisfied: setuptools>=40.1.0 in c:\\programdata\\anaconda3\\lib\\site-packages (from qiskit-ignis==0.4.0->qiskit) (49.2.0.post20200714)\n",
      "Collecting fastdtw\n",
      "  Using cached fastdtw-0.3.4.tar.gz (133 kB)\n",
      "Collecting dlx\n",
      "  Using cached dlx-1.0.4.tar.gz (5.5 kB)\n",
      "Requirement already satisfied: h5py in c:\\programdata\\anaconda3\\lib\\site-packages (from qiskit-aqua==0.7.5->qiskit) (2.10.0)\n",
      "Collecting yfinance\n",
      "  Using cached yfinance-0.1.54.tar.gz (19 kB)\n",
      "Collecting docplex\n",
      "  Using cached docplex-2.15.194.tar.gz (582 kB)\n",
      "Requirement already satisfied: pandas in c:\\programdata\\anaconda3\\lib\\site-packages (from qiskit-aqua==0.7.5->qiskit) (1.0.5)\n",
      "Collecting quandl\n",
      "  Using cached Quandl-3.5.2-py2.py3-none-any.whl (25 kB)\n",
      "Requirement already satisfied: six>=1.5 in c:\\programdata\\anaconda3\\lib\\site-packages (from python-dateutil>=2.8.0->qiskit-terra==0.15.2->qiskit) (1.15.0)\n",
      "Requirement already satisfied: mpmath>=0.19 in c:\\programdata\\anaconda3\\lib\\site-packages (from sympy>=1.3->qiskit-terra==0.15.2->qiskit) (1.1.0)\n",
      "Requirement already satisfied: decorator>=4.3.0 in c:\\programdata\\anaconda3\\lib\\site-packages (from networkx>=2.2; python_version > \"3.5\"->qiskit-terra==0.15.2->qiskit) (4.4.2)\n",
      "Requirement already satisfied: pyrsistent>=0.14.0 in c:\\programdata\\anaconda3\\lib\\site-packages (from jsonschema>=2.6->qiskit-terra==0.15.2->qiskit) (0.16.0)\n",
      "Requirement already satisfied: attrs>=17.4.0 in c:\\programdata\\anaconda3\\lib\\site-packages (from jsonschema>=2.6->qiskit-terra==0.15.2->qiskit) (19.3.0)\n",
      "Collecting ntlm-auth>=1.0.2\n",
      "  Using cached ntlm_auth-1.5.0-py2.py3-none-any.whl (29 kB)\n",
      "Requirement already satisfied: cryptography>=1.3 in c:\\programdata\\anaconda3\\lib\\site-packages (from requests-ntlm>=1.1.0->qiskit-ibmq-provider==0.9.0->qiskit) (2.9.2)\n",
      "Requirement already satisfied: idna<3,>=2.5 in c:\\programdata\\anaconda3\\lib\\site-packages (from requests>=2.19->qiskit-ibmq-provider==0.9.0->qiskit) (2.10)\n",
      "Requirement already satisfied: chardet<4,>=3.0.2 in c:\\programdata\\anaconda3\\lib\\site-packages (from requests>=2.19->qiskit-ibmq-provider==0.9.0->qiskit) (3.0.4)\n",
      "Requirement already satisfied: certifi>=2017.4.17 in c:\\programdata\\anaconda3\\lib\\site-packages (from requests>=2.19->qiskit-ibmq-provider==0.9.0->qiskit) (2020.6.20)\n",
      "Requirement already satisfied: threadpoolctl>=2.0.0 in c:\\programdata\\anaconda3\\lib\\site-packages (from scikit-learn>=0.17->qiskit-ignis==0.4.0->qiskit) (2.1.0)\n",
      "Requirement already satisfied: joblib>=0.11 in c:\\programdata\\anaconda3\\lib\\site-packages (from scikit-learn>=0.17->qiskit-ignis==0.4.0->qiskit) (0.16.0)\n",
      "Collecting multitasking>=0.0.7\n",
      "  Using cached multitasking-0.0.9.tar.gz (8.1 kB)\n",
      "Requirement already satisfied: pytz>=2017.2 in c:\\programdata\\anaconda3\\lib\\site-packages (from pandas->qiskit-aqua==0.7.5->qiskit) (2020.1)\n",
      "Collecting inflection>=0.3.1\n",
      "  Using cached inflection-0.5.1-py2.py3-none-any.whl (9.5 kB)\n",
      "Requirement already satisfied: more-itertools in c:\\programdata\\anaconda3\\lib\\site-packages (from quandl->qiskit-aqua==0.7.5->qiskit) (8.4.0)\n",
      "Requirement already satisfied: cffi!=1.11.3,>=1.8 in c:\\programdata\\anaconda3\\lib\\site-packages (from cryptography>=1.3->requests-ntlm>=1.1.0->qiskit-ibmq-provider==0.9.0->qiskit) (1.14.0)\n",
      "Requirement already satisfied: pycparser in c:\\programdata\\anaconda3\\lib\\site-packages (from cffi!=1.11.3,>=1.8->cryptography>=1.3->requests-ntlm>=1.1.0->qiskit-ibmq-provider==0.9.0->qiskit) (2.20)\n",
      "Building wheels for collected packages: qiskit, dill, python-constraint, fastdtw, dlx, yfinance, docplex, multitasking\n",
      "  Building wheel for qiskit (setup.py): started\n",
      "  Building wheel for qiskit (setup.py): finished with status 'done'\n",
      "  Created wheel for qiskit: filename=qiskit-0.21.0-py3-none-any.whl size=2878 sha256=fefdc692a1bc602b0b5d8e49b319a42bf6736a5b06d35fd26b59d5ae41ebbcae\n",
      "  Stored in directory: c:\\users\\alex\\appdata\\local\\pip\\cache\\wheels\\d7\\ce\\68\\98e592bd416a7584e81ea59ce1789f4df8cac0ebc11f7ae6e5\n",
      "  Building wheel for dill (setup.py): started\n",
      "  Building wheel for dill (setup.py): finished with status 'done'\n",
      "  Created wheel for dill: filename=dill-0.3.2-py3-none-any.whl size=78977 sha256=5202b7a8abcd2d42e208cd3a2accb405dda47b3010737c5a3dcdb5925b39b437\n",
      "  Stored in directory: c:\\users\\alex\\appdata\\local\\pip\\cache\\wheels\\93\\7f\\7d\\78ec535a4340ef2696aad8b17fe8bb063d56301bd62881b069\n",
      "  Building wheel for python-constraint (setup.py): started\n",
      "  Building wheel for python-constraint (setup.py): finished with status 'done'\n",
      "  Created wheel for python-constraint: filename=python_constraint-1.4.0-py2.py3-none-any.whl size=24085 sha256=81b8590b4acd5ac33694cf99abcfce23b48b29a2997aa0289c368ae813567bc6\n",
      "  Stored in directory: c:\\users\\alex\\appdata\\local\\pip\\cache\\wheels\\86\\ba\\5c\\4e9115777de42c6a2e1ca77ef7c9d0d479254c5080341b55c5\n",
      "  Building wheel for fastdtw (setup.py): started\n",
      "  Building wheel for fastdtw (setup.py): finished with status 'done'\n",
      "  Created wheel for fastdtw: filename=fastdtw-0.3.4-py3-none-any.whl size=3594 sha256=efbc3d23bf5ce84a9988d8c9499a3b22a2e03e162d7415ee9ab51bea25539ec1\n",
      "  Stored in directory: c:\\users\\alex\\appdata\\local\\pip\\cache\\wheels\\e9\\ac\\30\\c962f9d759dd68cb5482727c44441fdfb48040fdbe983857e8\n",
      "  Building wheel for dlx (setup.py): started\n",
      "  Building wheel for dlx (setup.py): finished with status 'done'\n",
      "  Created wheel for dlx: filename=dlx-1.0.4-py3-none-any.whl size=5715 sha256=b1580a38b5c05dfc5e2ce41592ba3f914508173c7956fe1868a7ed5bff246838\n",
      "  Stored in directory: c:\\users\\alex\\appdata\\local\\pip\\cache\\wheels\\c4\\03\\f9\\7afbf40e0c3d6928d16bcadb46264a6e68704998ec72f7ea13\n",
      "  Building wheel for yfinance (setup.py): started\n",
      "  Building wheel for yfinance (setup.py): finished with status 'done'\n",
      "  Created wheel for yfinance: filename=yfinance-0.1.54-py2.py3-none-any.whl size=22415 sha256=d58dc0cacfde41c7c3c7d5d8828ac60dd29907d80c814b9484397d83127fe76d\n",
      "  Stored in directory: c:\\users\\alex\\appdata\\local\\pip\\cache\\wheels\\d9\\55\\e4\\3fc43a4f56c7c18628bc24088be1d7168a832a91efa5ccc5da\n",
      "  Building wheel for docplex (setup.py): started\n",
      "  Building wheel for docplex (setup.py): finished with status 'done'\n",
      "  Created wheel for docplex: filename=docplex-2.15.194-py3-none-any.whl size=645119 sha256=d1fc07314aac72487ed387c3e3f80f5730ead6e640e2c476a810e211737b3574\n",
      "  Stored in directory: c:\\users\\alex\\appdata\\local\\pip\\cache\\wheels\\9f\\72\\37\\682278ae313764c583d8c10027b83b9a12da7bb148c0ea070b\n",
      "  Building wheel for multitasking (setup.py): started\n",
      "  Building wheel for multitasking (setup.py): finished with status 'done'\n",
      "  Created wheel for multitasking: filename=multitasking-0.0.9-py3-none-any.whl size=8374 sha256=c2b68dccd3895d219374b1b3577bec632e021495e93e07ea92b13ca01eb2e48d\n",
      "  Stored in directory: c:\\users\\alex\\appdata\\local\\pip\\cache\\wheels\\57\\6d\\a3\\a39b839cc75274d2acfb1c58bfead2f726c6577fe8c4723f13\n",
      "Successfully built qiskit dill python-constraint fastdtw dlx yfinance docplex multitasking\n",
      "Installing collected packages: dill, fastjsonschema, python-constraint, retworkx, qiskit-terra, pybind11, qiskit-aer, websockets, ntlm-auth, requests-ntlm, nest-asyncio, qiskit-ibmq-provider, qiskit-ignis, fastdtw, dlx, multitasking, yfinance, docplex, inflection, quandl, qiskit-aqua, qiskit\n",
      "Successfully installed dill-0.3.2 dlx-1.0.4 docplex-2.15.194 fastdtw-0.3.4 fastjsonschema-2.14.5 inflection-0.5.1 multitasking-0.0.9 nest-asyncio-1.4.0 ntlm-auth-1.5.0 pybind11-2.5.0 python-constraint-1.4.0 qiskit-0.21.0 qiskit-aer-0.6.1 qiskit-aqua-0.7.5 qiskit-ibmq-provider-0.9.0 qiskit-ignis-0.4.0 qiskit-terra-0.15.2 quandl-3.5.2 requests-ntlm-1.1.0 retworkx-0.5.0 websockets-8.1 yfinance-0.1.54\n"
     ]
    }
   ],
   "source": [
    "!pip3 install qiskit"
   ]
  },
  {
   "cell_type": "code",
   "execution_count": 3,
   "metadata": {},
   "outputs": [],
   "source": [
    "import qiskit as qk\n",
    "from qiskit import IBMQ,Aer"
   ]
  },
  {
   "cell_type": "code",
   "execution_count": 6,
   "metadata": {},
   "outputs": [
    {
     "name": "stderr",
     "output_type": "stream",
     "text": [
      "C:\\ProgramData\\Anaconda3\\lib\\site-packages\\qiskit\\providers\\ibmq\\ibmqfactory.py:192: UserWarning: Timestamps in IBMQ backend properties, jobs, and job results are all now in local time instead of UTC.\n",
      "  warnings.warn('Timestamps in IBMQ backend properties, jobs, and job results '\n"
     ]
    },
    {
     "data": {
      "text/plain": [
       "<AccountProvider for IBMQ(hub='ibm-q', group='open', project='main')>"
      ]
     },
     "execution_count": 6,
     "metadata": {},
     "output_type": "execute_result"
    }
   ],
   "source": [
    "with open('Qconfig_IBMQ_experience.py', 'r') as token_file:\n",
    "    token = token_file.read()\n",
    "qk.IBMQ.save_account(token, overwrite = True)\n",
    "qk.IBMQ.load_account()\n"
   ]
  },
  {
   "cell_type": "code",
   "execution_count": 7,
   "metadata": {},
   "outputs": [
    {
     "data": {
      "text/plain": [
       "[<IBMQSimulator('ibmq_qasm_simulator') from IBMQ(hub='ibm-q', group='open', project='main')>,\n",
       " <IBMQBackend('ibmqx2') from IBMQ(hub='ibm-q', group='open', project='main')>,\n",
       " <IBMQBackend('ibmq_16_melbourne') from IBMQ(hub='ibm-q', group='open', project='main')>,\n",
       " <IBMQBackend('ibmq_vigo') from IBMQ(hub='ibm-q', group='open', project='main')>,\n",
       " <IBMQBackend('ibmq_ourense') from IBMQ(hub='ibm-q', group='open', project='main')>,\n",
       " <IBMQBackend('ibmq_valencia') from IBMQ(hub='ibm-q', group='open', project='main')>,\n",
       " <IBMQBackend('ibmq_london') from IBMQ(hub='ibm-q', group='open', project='main')>,\n",
       " <IBMQBackend('ibmq_burlington') from IBMQ(hub='ibm-q', group='open', project='main')>,\n",
       " <IBMQBackend('ibmq_essex') from IBMQ(hub='ibm-q', group='open', project='main')>,\n",
       " <IBMQBackend('ibmq_armonk') from IBMQ(hub='ibm-q', group='open', project='main')>,\n",
       " <IBMQBackend('ibmq_santiago') from IBMQ(hub='ibm-q', group='open', project='main')>]"
      ]
     },
     "execution_count": 7,
     "metadata": {},
     "output_type": "execute_result"
    }
   ],
   "source": [
    "my_provider = IBMQ.get_provider()\n",
    "my_provider.backends()"
   ]
  },
  {
   "cell_type": "code",
   "execution_count": 9,
   "metadata": {},
   "outputs": [
    {
     "ename": "NameError",
     "evalue": "name 'devices' is not defined",
     "output_type": "error",
     "traceback": [
      "\u001b[1;31m---------------------------------------------------------------------------\u001b[0m",
      "\u001b[1;31mNameError\u001b[0m                                 Traceback (most recent call last)",
      "\u001b[1;32m<ipython-input-9-f841107cefa7>\u001b[0m in \u001b[0;36m<module>\u001b[1;34m\u001b[0m\n\u001b[1;32m----> 1\u001b[1;33m \u001b[0mreal_backend\u001b[0m \u001b[1;33m=\u001b[0m \u001b[0mqk\u001b[0m\u001b[1;33m.\u001b[0m\u001b[0mproviders\u001b[0m\u001b[1;33m.\u001b[0m\u001b[0mibmq\u001b[0m\u001b[1;33m.\u001b[0m\u001b[0mleast_busy\u001b[0m\u001b[1;33m(\u001b[0m\u001b[0mdevices\u001b[0m\u001b[1;33m)\u001b[0m\u001b[1;33m\u001b[0m\u001b[1;33m\u001b[0m\u001b[0m\n\u001b[0m\u001b[0;32m      2\u001b[0m \u001b[0mprint\u001b[0m\u001b[1;33m(\u001b[0m\u001b[0mreal_backend\u001b[0m\u001b[1;33m.\u001b[0m\u001b[0mconfiguration\u001b[0m\u001b[1;33m(\u001b[0m\u001b[1;33m)\u001b[0m\u001b[1;33m.\u001b[0m\u001b[0mn_qubits\u001b[0m\u001b[1;33m)\u001b[0m\u001b[1;33m\u001b[0m\u001b[1;33m\u001b[0m\u001b[0m\n",
      "\u001b[1;31mNameError\u001b[0m: name 'devices' is not defined"
     ]
    }
   ],
   "source": [
    "real_backend = qk.providers.ibmq.least_busy(devices)\n",
    "print(real_backend.configuration().n_qubits)"
   ]
  },
  {
   "cell_type": "code",
   "execution_count": 11,
   "metadata": {},
   "outputs": [
    {
     "data": {
      "text/plain": [
       "<qiskit.circuit.instructionset.InstructionSet at 0x103c3af0>"
      ]
     },
     "execution_count": 11,
     "metadata": {},
     "output_type": "execute_result"
    }
   ],
   "source": [
    "from qiskit import QuantumRegister, ClassicalRegister, QuantumCircuit\n",
    "from numpy import pi\n",
    "\n",
    "qreg_q = QuantumRegister(2, 'q')\n",
    "creg_c = ClassicalRegister(2, 'c')\n",
    "circuit = QuantumCircuit(qreg_q, creg_c)\n",
    "\n",
    "circuit.reset(qreg_q[0])\n",
    "circuit.reset(qreg_q[1])\n",
    "circuit.h(qreg_q[0])\n",
    "circuit.cx(qreg_q[0], qreg_q[1])\n",
    "circuit.measure(qreg_q[0], creg_c[0])\n",
    "circuit.measure(qreg_q[1], creg_c[1])"
   ]
  },
  {
   "cell_type": "code",
   "execution_count": 15,
   "metadata": {},
   "outputs": [
    {
     "data": {
      "image/png": "[encoded data removed]",
      "text/plain": [
       "<Figure size 504x360 with 1 Axes>"
      ]
     },
     "execution_count": 15,
     "metadata": {},
     "output_type": "execute_result"
    }
   ],
   "source": [
    "backend=Aer.get_backend('qasm_simulator')\n",
    "jobIBM=qk.execute(circuit,backend=backend,shots=1024)\n",
    "resultSim=jobIBM.result()\n",
    "\n",
    "backend  = my_provider.get_backend('ibmq_ourense')\n",
    "jobIBM=qk.execute(circuit,backend=backend,shots=1024)\n",
    "resultExp=jobIBM.result()\n",
    "\n",
    "from qiskit.tools.visualization import plot_histogram\n",
    "plot_histogram([resultExp.get_counts(circuit),resultSim.get_counts(circuit)])"
   ]
  },
  {
   "cell_type": "code",
   "execution_count": null,
   "metadata": {},
   "outputs": [],
   "source": []
  }
 ],
 "metadata": {
  "kernelspec": {
   "display_name": "Python 3",
   "language": "python",
   "name": "python3"
  },
  "language_info": {
   "codemirror_mode": {
    "name": "ipython",
    "version": 3
   },
   "file_extension": ".py",
   "mimetype": "text/x-python",
   "name": "python",
   "nbconvert_exporter": "python",
   "pygments_lexer": "ipython3",
   "version": "3.8.3"
  }
 },
 "nbformat": 4,
 "nbformat_minor": 2
}
