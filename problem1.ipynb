{
 "cells": [
  {
   "cell_type": "code",
   "execution_count": 4,
   "metadata": {},
   "outputs": [
    {
     "name": "stdout",
     "output_type": "stream",
     "text": [
      "theta =  [1.99461245] , phi =  [1.32472529]\n"
     ]
    }
   ],
   "source": [
    "import numpy as np\n",
    "from qiskit import *\n",
    "from math import sqrt, pi\n",
    "#preparing the state coeffs\n",
    "a = np.random.rand(1) + 1j * np.random.rand(1)\n",
    "b = np.random.rand(1) + 1j * np.random.rand(1)\n",
    "tnorm = sqrt(np.abs(a)**2 + np.abs(b)**2)\n",
    "a = a / tnorm\n",
    "b = b / tnorm\n",
    "\n",
    "psi = np.angle(a)\n",
    "a = a * np.exp(-1j * psi)\n",
    "b = b * np.exp(-1j * psi)\n",
    "#print(a,b)\n",
    "\n",
    "phi = np.angle(b)\n",
    "theta  = 2 * np.arctan2(np.abs(b),np.abs(a))\n",
    "print('theta = ',theta,', phi = ', phi)"
   ]
  },
  {
   "cell_type": "code",
   "execution_count": 5,
   "metadata": {},
   "outputs": [
    {
     "name": "stderr",
     "output_type": "stream",
     "text": [
      "C:\\ProgramData\\Anaconda3\\lib\\site-packages\\qiskit\\providers\\ibmq\\ibmqfactory.py:192: UserWarning: Timestamps in IBMQ backend properties, jobs, and job results are all now in local time instead of UTC.\n",
      "  warnings.warn('Timestamps in IBMQ backend properties, jobs, and job results '\n",
      "ibmqfactory.load_account:WARNING:2020-09-25 16:13:27,061: Credentials are already in use. The existing account in the session will be replaced.\n"
     ]
    },
    {
     "name": "stdout",
     "output_type": "stream",
     "text": [
      "[(0.5425670782127385-6.938893903907228e-18j), (0.20462303959524938+0.8147087683991704j)]\n",
      "real phi =  [1.32472529] , obtained phi =  [1.29742418] [1.09203518]\n"
     ]
    }
   ],
   "source": [
    "with open('Qconfig_IBMQ_experience.py', 'r') as token_file:\n",
    "    token = token_file.read()\n",
    "IBMQ.save_account(token, overwrite = True)\n",
    "IBMQ.load_account()\n",
    "my_provider = IBMQ.get_provider()\n",
    "\n",
    "qr = QuantumRegister(1)\n",
    "cr = ClassicalRegister(1)\n",
    "circuit = QuantumCircuit(qr, cr)\n",
    "\n",
    "state0 = [0,0]\n",
    "state0[0] = complex(a)\n",
    "state0[1] = complex(b)\n",
    "print(state0)\n",
    "circuit.initialize(state0, qr)\n",
    "circuit.h(0)\n",
    "circuit.measure(qr,cr)\n",
    "\n",
    "backend=Aer.get_backend('qasm_simulator')\n",
    "jobIBM=execute(circuit,backend=backend,shots=1024)\n",
    "resultSim=jobIBM.result()\n",
    "\n",
    "backend  = my_provider.get_backend('ibmq_valencia')\n",
    "jobIBM=execute(circuit,backend=backend,shots=1024)\n",
    "resultExp=jobIBM.result()\n",
    "\n",
    "from qiskit.tools.visualization import plot_histogram\n",
    "#plot_histogram([resultSim.get_counts(circuit)])\n",
    "plot_histogram([resultExp.get_counts(circuit),resultSim.get_counts(circuit)])\n",
    "\n",
    "rsim = resultSim.get_counts(circuit)\n",
    "a2sim = rsim['0'] / (rsim['0'] + rsim['1'])\n",
    "cos_phi1 = (2*a2sim-1)/(np.sin(theta))\n",
    "newphi1 = np.arccos(cos_phi1)\n",
    "\n",
    "rexp = resultExp.get_counts(circuit)\n",
    "a2exp = rexp['0'] / (rexp['0'] + rexp['1'])\n",
    "cos_phi2 = (2*a2exp-1)/(np.sin(theta)) #the explanation is on google disk link\n",
    "newphi2 = np.arccos(cos_phi2)\n",
    "#due to cos being even, we can't get the sign of phi through a single circuit\n",
    "print('real phi = ',phi, ', obtained phi = ',newphi1, newphi2)\n"
   ]
  },
  {
   "cell_type": "code",
   "execution_count": 6,
   "metadata": {},
   "outputs": [
    {
     "data": {
      "image/png": "[encoded data removed]",
      "text/plain": [
       "<Figure size 454.903x144.48 with 1 Axes>"
      ]
     },
     "execution_count": 6,
     "metadata": {},
     "output_type": "execute_result"
    }
   ],
   "source": [
    "circuit.draw(output = 'mpl')"
   ]
  }
 ],
 "metadata": {
  "kernelspec": {
   "display_name": "Python 3",
   "language": "python",
   "name": "python3"
  },
  "language_info": {
   "codemirror_mode": {
    "name": "ipython",
    "version": 3
   },
   "file_extension": ".py",
   "mimetype": "text/x-python",
   "name": "python",
   "nbconvert_exporter": "python",
   "pygments_lexer": "ipython3",
   "version": "3.8.3"
  }
 },
 "nbformat": 4,
 "nbformat_minor": 4
}
